{
  "cells": [
    {
      "cell_type": "code",
      "execution_count": null,
      "metadata": {
        "colab": {
          "base_uri": "https://localhost:8080/"
        },
        "id": "RZZ61HNstxPY",
        "outputId": "5a6215cd-0e4e-418f-c945-9ea3b871068e"
      },
      "outputs": [
        {
          "name": "stdout",
          "output_type": "stream",
          "text": [
            "['PyQt5, .Net, Python, Flask, Atom']\n",
            "Model Accuracy: 0.00%\n"
          ]
        },
        {
          "name": "stderr",
          "output_type": "stream",
          "text": [
            "[nltk_data] Downloading package punkt to /root/nltk_data...\n",
            "[nltk_data]   Package punkt is already up-to-date!\n"
          ]
        }
      ],
      "source": [
        "import pandas as pd\n",
        "from sklearn.feature_extraction.text import TfidfVectorizer\n",
        "from sklearn.model_selection import train_test_split\n",
        "from sklearn.naive_bayes import MultinomialNB\n",
        "from sklearn.pipeline import make_pipeline\n",
        "from nltk.stem import PorterStemmer\n",
        "from nltk.tokenize import word_tokenize\n",
        "import nltk\n",
        "\n",
        "nltk.download('punkt')\n",
        "\n",
        "stemmer = PorterStemmer()\n",
        "def stem_words(text):\n",
        "    tokens = word_tokenize(text.lower())\n",
        "    return ' '.join([stemmer.stem(word) for word in tokens])\n",
        "\n",
        "df = pd.read_csv('student_project_data.csv')\n",
        "\n",
        "df['Past Project Titles'] = df['Past Project Titles'].apply(stem_words)\n",
        "\n",
        "X = df['Past Project Titles']  # Input: project titles\n",
        "y = df['Skills']  # Target: corresponding skills\n",
        "\n",
        "# Vectorization + Naive Bayes Pipeline\n",
        "vectorizer = TfidfVectorizer(stop_words='english')  # Vectorization\n",
        "model = MultinomialNB()  # Naive Bayes model\n",
        "\n",
        "# Build pipeline: Vectorizer + Naive Bayes\n",
        "pipeline = make_pipeline(vectorizer, model)\n",
        "\n",
        "# Split data for training/testing\n",
        "X_train, X_test, y_train, y_test = train_test_split(X, y, test_size=0.2, random_state=42)\n",
        "\n",
        "# Train the model\n",
        "pipeline.fit(X_train, y_train)\n",
        "\n",
        "# Test the model with a new project title\n",
        "predicted_skills = pipeline.predict([\"Desktop App\"])\n",
        "print(predicted_skills)  # Output: predicted skills based on the title\n",
        "\n",
        "# Evaluate model accuracy\n",
        "accuracy = pipeline.score(X_test, y_test)\n",
        "print(f\"Model Accuracy: {accuracy * 100:.2f}%\")\n"
      ]
    },
    {
      "cell_type": "code",
      "execution_count": 18,
      "metadata": {
        "colab": {
          "base_uri": "https://localhost:8080/"
        },
        "id": "QyckTnqXCzh5",
        "outputId": "93f4ac1e-ca50-4c2b-8905-01a404c5d3bc"
      },
      "outputs": [
        {
          "name": "stdout",
          "output_type": "stream",
          "text": [
            "['Figma, Adobe XD, Sketch, HTML/CSS']\n",
            "Model Accuracy: 0.00%\n"
          ]
        },
        {
          "name": "stderr",
          "output_type": "stream",
          "text": [
            "[nltk_data] Downloading package punkt to /root/nltk_data...\n",
            "[nltk_data]   Package punkt is already up-to-date!\n"
          ]
        }
      ],
      "source": [
        "import pandas as pd\n",
        "from sklearn.feature_extraction.text import TfidfVectorizer\n",
        "from sklearn.model_selection import train_test_split\n",
        "from sklearn.naive_bayes import MultinomialNB\n",
        "from sklearn.pipeline import make_pipeline\n",
        "from nltk.stem import PorterStemmer\n",
        "from nltk.tokenize import word_tokenize\n",
        "import nltk\n",
        "import joblib\n",
        "\n",
        "nltk.download('punkt')\n",
        "\n",
        "# Initialize stemmer\n",
        "stemmer = PorterStemmer()\n",
        "\n",
        "def stem_words(text):\n",
        "    tokens = word_tokenize(text.lower())\n",
        "    return ' '.join([stemmer.stem(word) for word in tokens])\n",
        "\n",
        "def load_data(file_path):\n",
        "    df = pd.read_csv(file_path)\n",
        "    return df\n",
        "\n",
        "def preprocess_data(df):\n",
        "    df['Past Project Titles'] = df['Past Project Titles'].apply(stem_words)\n",
        "    return df\n",
        "\n",
        "def train_model(X, y):\n",
        "    vectorizer = TfidfVectorizer(stop_words='english')\n",
        "    model = MultinomialNB()\n",
        "    pipeline = make_pipeline(vectorizer, model)\n",
        "    pipeline.fit(X, y)\n",
        "    return pipeline\n",
        "\n",
        "def evaluate_model(pipeline, X_test, y_test):\n",
        "    accuracy = pipeline.score(X_test, y_test)\n",
        "    return accuracy\n",
        "\n",
        "def save_model(pipeline, file_name):\n",
        "    joblib.dump(pipeline, file_name)\n",
        "\n",
        "def predict_skills(pipeline, project_title):\n",
        "    return pipeline.predict([project_title])\n",
        "\n",
        "def main():\n",
        "    df = load_data('student_project_data.csv')\n",
        "\n",
        "    df = preprocess_data(df)\n",
        "\n",
        "    X = df['Past Project Titles']  # Input: project titles\n",
        "    y = df['Skills']  # Target: corresponding skills\n",
        "    X_train, X_test, y_train, y_test = train_test_split(X, y, test_size=0.2, random_state=42)\n",
        "\n",
        "    pipeline = train_model(X_train, y_train)\n",
        "\n",
        "    predicted_skills = predict_skills(pipeline, \"website \")\n",
        "    print(predicted_skills)\n",
        "\n",
        "    accuracy = evaluate_model(pipeline, X_test, y_test)\n",
        "    print(f\"Model Accuracy: {accuracy * 100:.2f}%\")\n",
        "\n",
        "    # Save the model\n",
        "    # save_model(pipeline, 'naive_bayes_model.pkl')\n",
        "\n",
        "if __name__ == \"__main__\":\n",
        "    main()\n"
      ]
    },
    {
      "cell_type": "code",
      "execution_count": 47,
      "metadata": {
        "colab": {
          "base_uri": "https://localhost:8080/"
        },
        "id": "RDk3ZmrTA53l",
        "outputId": "295a0755-0842-42a8-910a-c6f1edbd4602"
      },
      "outputs": [
        {
          "name": "stdout",
          "output_type": "stream",
          "text": [
            "['WordPress, PHP, HTML, CSS' 'Shopify' 'React, Angular, Javascript']\n",
            "Model Accuracy: 0.00%\n"
          ]
        },
        {
          "name": "stderr",
          "output_type": "stream",
          "text": [
            "[nltk_data] Downloading package punkt to /root/nltk_data...\n",
            "[nltk_data]   Package punkt is already up-to-date!\n"
          ]
        }
      ],
      "source": [
        "import pandas as pd\n",
        "from sklearn.feature_extraction.text import TfidfVectorizer\n",
        "from sklearn.model_selection import train_test_split\n",
        "from sklearn.naive_bayes import MultinomialNB\n",
        "from sklearn.pipeline import make_pipeline\n",
        "from nltk.stem import PorterStemmer\n",
        "from nltk.tokenize import word_tokenize\n",
        "import nltk\n",
        "import joblib\n",
        "import numpy as np\n",
        "\n",
        "nltk.download('punkt')\n",
        "\n",
        "# Initialize stemmer\n",
        "stemmer = PorterStemmer()\n",
        "\n",
        "def stem_words(text):\n",
        "    tokens = word_tokenize(text.lower())\n",
        "    return ' '.join([stemmer.stem(word) for word in tokens])\n",
        "\n",
        "def load_data(file_path):\n",
        "    df = pd.read_csv(file_path)\n",
        "    return df\n",
        "\n",
        "def preprocess_data(df):\n",
        "    df['Past Project Titles'] = df['Past Project Titles'].apply(stem_words)\n",
        "    return df\n",
        "\n",
        "def train_model(X, y):\n",
        "    vectorizer = TfidfVectorizer(stop_words='english')\n",
        "    model = MultinomialNB()\n",
        "    pipeline = make_pipeline(vectorizer, model)\n",
        "    pipeline.fit(X, y)\n",
        "    return pipeline\n",
        "\n",
        "def evaluate_model(pipeline, X_test, y_test):\n",
        "    accuracy = pipeline.score(X_test, y_test)\n",
        "    return accuracy\n",
        "\n",
        "def save_model(pipeline, file_name):\n",
        "    joblib.dump(pipeline, file_name)\n",
        "\n",
        "def predict_top_n_skills(pipeline, project_title, n=2):\n",
        "    probas = pipeline.predict_proba([project_title])\n",
        "\n",
        "    top_n_indices = np.argsort(probas[0])[-n:][::-1]\n",
        "\n",
        "    top_skills = pipeline.classes_[top_n_indices]\n",
        "    return top_skills\n",
        "\n",
        "def main():\n",
        "    df = load_data('student_project_data.csv')\n",
        "\n",
        "    df = preprocess_data(df)\n",
        "\n",
        "    X = df['Past Project Titles']  # Input: project titles\n",
        "    y = df['Skills']  # Target: corresponding skills\n",
        "    X_train, X_test, y_train, y_test = train_test_split(X, y, test_size=0.2, random_state=42)\n",
        "\n",
        "    pipeline = train_model(X_train, y_train)\n",
        "\n",
        "    top_skills = predict_top_n_skills(pipeline, \"Website\", n=3)\n",
        "    print(top_skills)\n",
        "\n",
        "    accuracy = evaluate_model(pipeline, X_test, y_test)\n",
        "    print(f\"Model Accuracy: {accuracy * 100:.2f}%\")\n",
        "\n",
        "    # Save the model\n",
        "    save_model(pipeline, 'naive_bayes_model.pkl')\n",
        "\n",
        "if __name__ == \"__main__\":\n",
        "    main()\n"
      ]
    }
  ],
  "metadata": {
    "colab": {
      "provenance": []
    },
    "kernelspec": {
      "display_name": "Python 3",
      "name": "python3"
    },
    "language_info": {
      "name": "python"
    }
  },
  "nbformat": 4,
  "nbformat_minor": 0
}
